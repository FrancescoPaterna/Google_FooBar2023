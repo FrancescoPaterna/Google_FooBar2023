{
 "cells": [
  {
   "cell_type": "code",
   "execution_count": 1,
   "metadata": {},
   "outputs": [],
   "source": [
    "from collections import Counter\n",
    "from math import factorial\n",
    "\n",
    "#greatest common divisor\n",
    "def gcd(a, b):\n",
    "    while b:\n",
    "        a, b = b, a % b\n",
    "    return a\n",
    "\n",
    "def CF(c, n):\n",
    "    cc= factorial(n)\n",
    "    for a, b in Counter(c).items():\n",
    "        cc//=(a**b)*factorial(b)\n",
    "    return cc\n",
    "\n",
    "def pwc(n):\n",
    "    p = n*[0]\n",
    "    p[0] = n  \n",
    "    res = [] \n",
    "    a = [0 for i in range(n + 1)]\n",
    "    k = 1\n",
    "    y = n - 1\n",
    "    while k != 0:\n",
    "        x = a[k - 1] + 1\n",
    "        k -= 1\n",
    "        while 2 * x <= y:\n",
    "            a[k] = x\n",
    "            y -= x\n",
    "            k += 1\n",
    "        l = k + 1\n",
    "        while x <= y:\n",
    "            a[k] = x\n",
    "            a[l] = y\n",
    "            partition = a[:k+2]\n",
    "            res.append((partition, CF(partition,n)))\n",
    "            x += 1\n",
    "            y -= 1\n",
    "        a[k] = x + y\n",
    "        y = x + y - 1\n",
    "        partition = a[:k+1]\n",
    "        res.append((partition, CF(partition,n)))\n",
    "    return res\n",
    "\n",
    "\n",
    "def solution(w, h, s):\n",
    "    n = max(w,h)\n",
    "    sol=0\n",
    "    for cpw in pwc(w):\n",
    "        for cph in pwc(h):\n",
    "            m=cpw[1]*cph[1]\n",
    "            sol+=m*(s**sum([sum([gcd(i, j) for i in cpw[0]]) for j in cph[0]]))\n",
    "    return str(sol//(factorial(w)*factorial(h)))"
   ]
  },
  {
   "cell_type": "code",
   "execution_count": null,
   "metadata": {},
   "outputs": [],
   "source": []
  }
 ],
 "metadata": {
  "kernelspec": {
   "display_name": "Python 2",
   "language": "python",
   "name": "python2"
  },
  "language_info": {
   "codemirror_mode": {
    "name": "ipython",
    "version": 2
   },
   "file_extension": ".py",
   "mimetype": "text/x-python",
   "name": "python",
   "nbconvert_exporter": "python",
   "pygments_lexer": "ipython2",
   "version": "2.7.18"
  }
 },
 "nbformat": 4,
 "nbformat_minor": 2
}
